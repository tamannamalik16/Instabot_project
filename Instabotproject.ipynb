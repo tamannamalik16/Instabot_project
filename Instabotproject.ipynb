{
 "cells": [
  {
   "cell_type": "code",
   "execution_count": 71,
   "id": "4144afae-51b9-40c2-bcda-c13e01595b6a",
   "metadata": {},
   "outputs": [],
   "source": [
    "from selenium import webdriver\n",
    "from selenium.webdriver.common.keys import Keys\n",
    "import time\n",
    "from selenium.common.exceptions import NoSuchElementException\n",
    "from selenium.common.exceptions import StaleElementReferenceException\n",
    "from selenium.common.exceptions import TimeoutException\n",
    "from selenium.webdriver.support.ui import WebDriverWait\n",
    "from selenium.webdriver.support import expected_conditions as EC\n",
    "from selenium.webdriver.common.by import By\n",
    "from selenium.webdriver.support.select import Select\n",
    "import random"
   ]
  },
  {
   "cell_type": "code",
   "execution_count": 83,
   "id": "2cb454e0-aa6a-4bfa-ae86-aad5a87bb563",
   "metadata": {},
   "outputs": [],
   "source": [
    "driver=webdriver.Chrome()"
   ]
  },
  {
   "cell_type": "code",
   "execution_count": 85,
   "id": "b16b41de-8aa1-4d0e-a61e-e6bd14279ef9",
   "metadata": {},
   "outputs": [],
   "source": [
    "driver.get(\"https://www.instagram.com/accounts/login\")"
   ]
  },
  {
   "cell_type": "code",
   "execution_count": null,
   "id": "f29aaba7-6517-4607-9507-f1b85f1446ed",
   "metadata": {},
   "outputs": [],
   "source": []
  },
  {
   "cell_type": "code",
   "execution_count": 87,
   "id": "44096fbe-490f-4309-ab93-0ed4e6054e42",
   "metadata": {},
   "outputs": [],
   "source": [
    "def login():\n",
    "    User=SampleUsername\n",
    "    Pass=SamplePassword\n",
    "\n",
    "    username=driver.find_element(By.NAME,'username')\n",
    "    password=driver.find_element(By.NAME,'password')\n",
    "    \n",
    "    username.click()\n",
    "    username.send_keys(User)\n",
    "    \n",
    "    password.click()\n",
    "    password.send_keys(Pass)\n",
    "\n",
    "    login=driver.find_element(By.XPATH,'//*[@id=\"loginForm\"]/div/div[3]')\n",
    "    login.click()\n",
    "\n",
    "login()\n",
    "    \n",
    "    "
   ]
  },
  {
   "cell_type": "code",
   "execution_count": 89,
   "id": "bf4e1b19-4455-4928-b5a2-1280ca3e93cd",
   "metadata": {},
   "outputs": [],
   "source": [
    "## save login info,click not now\n",
    "\n",
    "time.sleep(5)\n",
    "driver.find_element(By.XPATH,'/html/body/div[2]/div/div/div[2]/div/div/div[1]/div[1]/div[1]/section/main/div/div/div/div/div').click()"
   ]
  },
  {
   "cell_type": "code",
   "execution_count": null,
   "id": "33a948d0-2647-4ff8-894e-d3210e3bac3d",
   "metadata": {},
   "outputs": [],
   "source": []
  },
  {
   "cell_type": "code",
   "execution_count": null,
   "id": "95eb1487-03bb-408b-9347-d7afdb556e7d",
   "metadata": {},
   "outputs": [],
   "source": [
    "## notification \n",
    "driver.find_element(By.XPATH,'/html/body/div[4]/div[1]/div/div[2]/div/div/div/div/div[2]/div/div/div[3]/button[2]').click()\n",
    "time.sleep(2)"
   ]
  },
  {
   "cell_type": "code",
   "execution_count": 93,
   "id": "326a0aa9-ed3f-4c52-b536-0538473d3d44",
   "metadata": {},
   "outputs": [],
   "source": [
    "# locating search bar then clcik on it\n",
    "driver.find_element(By.XPATH,'/html/body/div[1]/div/div/div[2]/div/div/div[1]/div[1]/div[2]/div/div/div/div/div[2]/div[2]/span').click()"
   ]
  },
  {
   "cell_type": "code",
   "execution_count": null,
   "id": "2f29d7a1-981b-4eb5-b147-55d15e830274",
   "metadata": {},
   "outputs": [],
   "source": [
    "profiles_list=['duck_.lover','rabbit_.lover']\n",
    "comments=['so cute','amazing','nice','Love it','looks very specific']"
   ]
  },
  {
   "cell_type": "code",
   "execution_count": 95,
   "id": "ca780395-f841-4ba4-9130-990ce51b1fa2",
   "metadata": {},
   "outputs": [],
   "source": [
    "# locating serch textbox and enter search string\n",
    "for i in range(profiles_list)):\n",
    "    search = driver.find_element(By.XPATH,'//input[@placeholder=\"Search\"]')\n",
    "    search.send_keys(profiles_list[i])\n",
    "    search.send_keys(Keys.ENTER)\n",
    "\n",
    "    count = 0\n",
    "    while count <3:\n",
    "       search.send_keys(Keys.ENTER)\n",
    "       count +=1\n",
    "       time.sleep()\n",
    "\n",
    "\n",
    "    ## follow insta account \n",
    "    follow=driver.find_element(By.XPATH,'//button[text()=\"Follow\"]\n",
    "    follow.click()\n",
    "    time.sleep(1)  \n",
    "\n",
    "    ## open the posts\n",
    "    media_element=driver.find_element(By.XPATH,'/html/body/div[1]/div/div/div[2]/div/div/div[1]/div[2]/div/div[1]/section/main/div/div[2]/div/div[1]/div[1]/a/div[1]/div[2]')\n",
    "    media_element.click()\n",
    "    time.sleep(2)\n",
    "\n",
    "    for k in range(3):\n",
    "        # liking the posts\n",
    "        like=driver.find_element(By.XPATH,'//button[@class=\"wp06b \"]//*[@aria-label=\"Like\"]')\n",
    "        like.click()\n",
    "        time.sleep(1)  \n",
    "\n",
    "        # comment\n",
    "\n",
    "        comment=driver.find_element(By.XPATH,'/html/body/div[7]/div[1]/div/div[3]/div/div/div/div/div[2]/div/article/div/div[2]/div/div/div[2]/section[3]/div/form/div/textarea')\n",
    "        comment.send_keys(random.choice(comments))\n",
    "\n",
    "        #  to post the comment\n",
    "        post=driver.find_element(By.XPATH,'/html/body/div[7]/div[1]/div/div[3]/div/div/div/div/div[2]/div/article/div/div[2]/div/div/div[2]/section[3]/div/form/div/div[2]/div')\n",
    "        post.click()\n",
    "\n",
    "        time.sleep(2)\n",
    "\n",
    "        ##  click on next post\n",
    "        next=driver.find_element(By.XPATH,'/html/body/div[7]/div[1]/div/div[3]/div/div/div/div/div[1]/div/div/div/button')\n",
    "        next.click()\n",
    "        time.sleep()\n",
    "\n",
    "        # to clost the media/current posts\n",
    "\n",
    "        close=driver.find_element(By.XPATH,'/html/body/div[6]/div[1]/div/div[2]/div/div')\n",
    "        close.click()"
   ]
  },
  {
   "cell_type": "code",
   "execution_count": null,
   "id": "d651b892-2ea1-4431-8178-bf6a34968c23",
   "metadata": {},
   "outputs": [],
   "source": []
  },
  {
   "cell_type": "code",
   "execution_count": null,
   "id": "15e0f629-2790-4461-ab13-941090c9ead4",
   "metadata": {},
   "outputs": [],
   "source": []
  },
  {
   "cell_type": "code",
   "execution_count": null,
   "id": "dd39c62d-7805-4a01-93b7-b868e7d21d50",
   "metadata": {},
   "outputs": [],
   "source": [
    "                          "
   ]
  },
  {
   "cell_type": "code",
   "execution_count": null,
   "id": "a9ed03b3-01b5-4d3a-8e8d-1e8344c09754",
   "metadata": {},
   "outputs": [],
   "source": []
  },
  {
   "cell_type": "code",
   "execution_count": null,
   "id": "3d03eea9-7795-4258-b0ae-bfdab3fc7cb7",
   "metadata": {},
   "outputs": [],
   "source": []
  },
  {
   "cell_type": "code",
   "execution_count": null,
   "id": "06cacf51-c3db-4683-a1d8-dcc8f7552dfc",
   "metadata": {},
   "outputs": [],
   "source": []
  },
  {
   "cell_type": "code",
   "execution_count": null,
   "id": "fe84a102-b92b-4bdd-979c-9962316aa291",
   "metadata": {},
   "outputs": [],
   "source": []
  },
  {
   "cell_type": "code",
   "execution_count": null,
   "id": "6fc8c6a3-ca0a-4801-b833-804a2e2bb237",
   "metadata": {},
   "outputs": [],
   "source": []
  },
  {
   "cell_type": "code",
   "execution_count": null,
   "id": "2027f595-db12-418e-aa40-fd60a553a0f7",
   "metadata": {},
   "outputs": [],
   "source": []
  },
  {
   "cell_type": "code",
   "execution_count": null,
   "id": "d1a8ac6b-dd36-4f84-b70b-a16c00c71f0d",
   "metadata": {},
   "outputs": [],
   "source": []
  },
  {
   "cell_type": "code",
   "execution_count": null,
   "id": "225cd609-1558-468c-9e61-adc702041ef3",
   "metadata": {},
   "outputs": [],
   "source": []
  },
  {
   "cell_type": "code",
   "execution_count": null,
   "id": "b3ead043-da0a-4375-b936-a149550ac242",
   "metadata": {},
   "outputs": [],
   "source": []
  },
  {
   "cell_type": "code",
   "execution_count": null,
   "id": "a706efd8-356e-4470-b250-dc796d4b02d6",
   "metadata": {},
   "outputs": [],
   "source": []
  },
  {
   "cell_type": "code",
   "execution_count": null,
   "id": "1cd33f49-c6f9-4e65-9d36-7901963ab062",
   "metadata": {},
   "outputs": [],
   "source": []
  },
  {
   "cell_type": "code",
   "execution_count": null,
   "id": "4d43668c-165c-4ba0-aa3e-edf1ef2d663c",
   "metadata": {},
   "outputs": [],
   "source": []
  },
  {
   "cell_type": "code",
   "execution_count": null,
   "id": "83441b52-7b5a-415b-8395-037386feb6b3",
   "metadata": {},
   "outputs": [],
   "source": []
  },
  {
   "cell_type": "code",
   "execution_count": null,
   "id": "2b5944ae-1723-4820-bb04-e0ccdb71742e",
   "metadata": {},
   "outputs": [],
   "source": []
  },
  {
   "cell_type": "code",
   "execution_count": null,
   "id": "a276fb5f-cd73-45ec-a199-1d88d9cccba8",
   "metadata": {},
   "outputs": [],
   "source": []
  },
  {
   "cell_type": "code",
   "execution_count": null,
   "id": "cf5a85d0-a9d1-4974-b9bf-123a5ef9a21e",
   "metadata": {},
   "outputs": [],
   "source": []
  },
  {
   "cell_type": "code",
   "execution_count": null,
   "id": "ac0d8498-550d-4b60-98a7-ab9dd3464932",
   "metadata": {},
   "outputs": [],
   "source": []
  },
  {
   "cell_type": "code",
   "execution_count": null,
   "id": "8676d27a-ab68-4601-86fb-d386f50f5a80",
   "metadata": {},
   "outputs": [],
   "source": []
  },
  {
   "cell_type": "code",
   "execution_count": null,
   "id": "13eacfa8-f526-4d13-9f3c-9b618eaf5b33",
   "metadata": {},
   "outputs": [],
   "source": []
  },
  {
   "cell_type": "code",
   "execution_count": null,
   "id": "2eada221-6769-4060-9787-73adf2e02fcc",
   "metadata": {},
   "outputs": [],
   "source": []
  },
  {
   "cell_type": "code",
   "execution_count": null,
   "id": "3292b04d-2a92-42f9-9ff0-fcf415beea41",
   "metadata": {},
   "outputs": [],
   "source": []
  },
  {
   "cell_type": "code",
   "execution_count": null,
   "id": "b27079f8-84cc-4e41-b08f-d0ef1e6ca855",
   "metadata": {},
   "outputs": [],
   "source": []
  },
  {
   "cell_type": "code",
   "execution_count": null,
   "id": "1f8acb37-a002-4940-9357-d858e5242a44",
   "metadata": {},
   "outputs": [],
   "source": []
  },
  {
   "cell_type": "code",
   "execution_count": null,
   "id": "4ffd36cd-b666-4031-a103-317ab12bc4f4",
   "metadata": {},
   "outputs": [],
   "source": []
  },
  {
   "cell_type": "code",
   "execution_count": null,
   "id": "659c240b-d91b-4f02-873f-a73496c95534",
   "metadata": {},
   "outputs": [],
   "source": []
  },
  {
   "cell_type": "code",
   "execution_count": null,
   "id": "b7d0e972-1ccc-4b9e-8f2b-bfc197347650",
   "metadata": {},
   "outputs": [],
   "source": []
  },
  {
   "cell_type": "code",
   "execution_count": null,
   "id": "5ac4c7da-87b6-4739-bbaa-5fe0dcc83d05",
   "metadata": {},
   "outputs": [],
   "source": []
  },
  {
   "cell_type": "code",
   "execution_count": null,
   "id": "ccfc353b-3e93-455b-8957-23359a7c7f89",
   "metadata": {},
   "outputs": [],
   "source": []
  },
  {
   "cell_type": "code",
   "execution_count": null,
   "id": "82eaa972-a09a-4649-bcf8-cc75fa318785",
   "metadata": {},
   "outputs": [],
   "source": []
  },
  {
   "cell_type": "code",
   "execution_count": null,
   "id": "ab173112-97f8-45b9-ae68-066f2c71e11d",
   "metadata": {},
   "outputs": [],
   "source": []
  },
  {
   "cell_type": "code",
   "execution_count": null,
   "id": "124496f1-f0b7-4118-9836-69268489162d",
   "metadata": {},
   "outputs": [],
   "source": []
  },
  {
   "cell_type": "code",
   "execution_count": null,
   "id": "01eb41d9-352f-4009-9a15-fdde644aa312",
   "metadata": {},
   "outputs": [],
   "source": []
  },
  {
   "cell_type": "code",
   "execution_count": null,
   "id": "d81bffbe-1e89-4719-af91-77c41cb42ff9",
   "metadata": {},
   "outputs": [],
   "source": []
  },
  {
   "cell_type": "code",
   "execution_count": null,
   "id": "ad259f57-c8c9-4c4d-a0d5-38f4de1a86b5",
   "metadata": {},
   "outputs": [],
   "source": []
  },
  {
   "cell_type": "code",
   "execution_count": null,
   "id": "5b1062ef-cbaa-4d39-9030-ea5844307920",
   "metadata": {},
   "outputs": [],
   "source": []
  },
  {
   "cell_type": "code",
   "execution_count": null,
   "id": "c3cbf164-f2b4-43d0-9050-5d0e4970bfda",
   "metadata": {},
   "outputs": [],
   "source": []
  },
  {
   "cell_type": "code",
   "execution_count": null,
   "id": "6691248d-1a98-4f2e-9856-c6390ff0508d",
   "metadata": {},
   "outputs": [],
   "source": []
  },
  {
   "cell_type": "code",
   "execution_count": null,
   "id": "d1aa7b35-96e6-4e5e-858e-fd79be153aa6",
   "metadata": {},
   "outputs": [],
   "source": []
  },
  {
   "cell_type": "code",
   "execution_count": null,
   "id": "57a35e84-21f7-491f-b8e5-6ac90e658bf7",
   "metadata": {},
   "outputs": [],
   "source": []
  },
  {
   "cell_type": "code",
   "execution_count": null,
   "id": "eb9f6b28-af6f-47d6-9d94-05cc937b34ea",
   "metadata": {},
   "outputs": [],
   "source": []
  },
  {
   "cell_type": "code",
   "execution_count": null,
   "id": "7ae8b77d-bc90-44f7-a2ac-009b7a730fdd",
   "metadata": {},
   "outputs": [],
   "source": []
  }
 ],
 "metadata": {
  "kernelspec": {
   "display_name": "Python 3 (ipykernel)",
   "language": "python",
   "name": "python3"
  },
  "language_info": {
   "codemirror_mode": {
    "name": "ipython",
    "version": 3
   },
   "file_extension": ".py",
   "mimetype": "text/x-python",
   "name": "python",
   "nbconvert_exporter": "python",
   "pygments_lexer": "ipython3",
   "version": "3.11.7"
  }
 },
 "nbformat": 4,
 "nbformat_minor": 5
}
